{
  "nbformat": 4,
  "nbformat_minor": 0,
  "metadata": {
    "colab": {
      "provenance": []
    },
    "kernelspec": {
      "name": "python3",
      "display_name": "Python 3"
    },
    "language_info": {
      "name": "python"
    }
  },
  "cells": [
    {
      "cell_type": "markdown",
      "source": [
        "# Convolutional Neural Network (CNN) for CIFAR-10 Classification\n",
        "\n",
        "## Overview\n",
        "\n",
        "This notebook demonstrates the implementation of a **Convolutional Neural Network (CNN)** for classifying images from the **CIFAR-10 dataset** into two categories: objects that can fly (class 1) and objects that cannot fly (class 0). The CNN architecture is trained on the CIFAR-10 training set and evaluated on both a custom test file and the CIFAR-10 test batch.\n",
        "\n",
        "## CNN Architecture\n",
        "\n",
        "The CNN architecture consists of the following layers:\n",
        "\n",
        "1. **Convolutional Layers**: Three convolutional layers with ReLU activation functions. These layers extract features from the input images through convolution operations.\n",
        "\n",
        "2. **MaxPooling Layers**: Three max-pooling layers to downsample the feature maps obtained from the convolutional layers. Max-pooling helps reduce spatial dimensions and control overfitting.\n",
        "\n",
        "3. **Flatten Layer**: Flattens the output from the last max-pooling layer into a one-dimensional vector, preparing it for input into the fully connected layers.\n",
        "\n",
        "4. **Fully Connected Layers (Dense Layers)**: Two fully connected layers with ReLU activation functions and a dropout layer for regularization. These layers perform classification based on the features extracted by the convolutional layers.\n",
        "\n",
        "5. **Output Layer**: The output layer consists of a single neuron with a sigmoid activation function, producing a binary classification output indicating whether the object can fly (class 1) or cannot fly (class 0).\n",
        "\n",
        "## Training Strategy\n",
        "\n",
        "The model is trained using the Adam optimizer with a binary cross-entropy loss function. The training data is normalized and split into training and validation sets. The model is trained for 10 epochs with a batch size of 64.\n",
        "\n",
        "## Evaluation Strategy\n",
        "\n",
        "The model is evaluated on both a custom test file and the CIFAR-10 test batch. Evaluation metrics including accuracy, precision, recall, and F1 score are calculated. Additionally, a confusion matrix is generated to visualize the model's performance on the test data.\n"
      ],
      "metadata": {
        "id": "_bba97MPom6n"
      }
    },
    {
      "cell_type": "markdown",
      "source": [
        "# Import Libraries"
      ],
      "metadata": {
        "id": "M_sRswNEosn2"
      }
    },
    {
      "cell_type": "code",
      "execution_count": 12,
      "metadata": {
        "id": "Zmv7NbUrokDT"
      },
      "outputs": [],
      "source": [
        "import numpy as np\n",
        "import tensorflow as tf\n",
        "from tensorflow.keras.datasets import cifar10\n",
        "from tensorflow.keras.models import Sequential\n",
        "from tensorflow.keras.layers import Conv2D, MaxPooling2D, Flatten, Dense, Dropout\n",
        "from sklearn.metrics import precision_score, recall_score, f1_score, confusion_matrix, accuracy_score\n",
        "import matplotlib.pyplot as plt\n",
        "import seaborn as sns\n",
        "import pickle"
      ]
    },
    {
      "cell_type": "markdown",
      "source": [
        "# Function to unpickle the dataset"
      ],
      "metadata": {
        "id": "i3eTzaqqo5vm"
      }
    },
    {
      "cell_type": "code",
      "source": [
        "def unpickle(file):\n",
        "    with open(file, 'rb') as fo:\n",
        "        dict = pickle.load(fo, encoding='bytes')\n",
        "    return dict"
      ],
      "metadata": {
        "id": "pt3_S5u_o-gG"
      },
      "execution_count": 13,
      "outputs": []
    },
    {
      "cell_type": "markdown",
      "source": [
        "# Load CIFAR-10 training data"
      ],
      "metadata": {
        "id": "NOnIMFSlo_Qe"
      }
    },
    {
      "cell_type": "code",
      "source": [
        "(x_train, y_train), (x_test, y_test) = cifar10.load_data()"
      ],
      "metadata": {
        "id": "mhrQ9qgEpBvt"
      },
      "execution_count": 14,
      "outputs": []
    },
    {
      "cell_type": "markdown",
      "source": [
        "\n",
        "# Load CIFAR-10 test batch from file"
      ],
      "metadata": {
        "id": "MeJfoWycpD3V"
      }
    },
    {
      "cell_type": "code",
      "source": [
        "test_batch = unpickle('test_batch')\n",
        "x_test_batch = test_batch[b'data']\n",
        "y_test_batch = test_batch[b'labels']"
      ],
      "metadata": {
        "id": "qPSxvqOFpuLY"
      },
      "execution_count": 15,
      "outputs": []
    },
    {
      "cell_type": "markdown",
      "source": [
        "\n",
        "# Reshape and normalize test batch images"
      ],
      "metadata": {
        "id": "wjt_vyDDpLQ1"
      }
    },
    {
      "cell_type": "code",
      "source": [
        "x_test_batch = x_test_batch.reshape(len(x_test_batch), 3, 32, 32).transpose(0, 2, 3, 1)\n",
        "x_test_batch = x_test_batch.astype('float32') / 255.0"
      ],
      "metadata": {
        "id": "lH8wyPr5pNEe"
      },
      "execution_count": 16,
      "outputs": []
    },
    {
      "cell_type": "markdown",
      "source": [
        "# Convert test batch labels to binary"
      ],
      "metadata": {
        "id": "UntRIACMpOwm"
      }
    },
    {
      "cell_type": "code",
      "source": [
        "can_fly = [0, 2]  # 0: airplane, 2: bird\n",
        "cannot_fly = [1, 3, 4, 5, 6, 7, 8, 9]  # all other classes\n",
        "y_test_batch = np.array(y_test_batch)\n",
        "y_test_batch_bin = np.isin(y_test_batch, can_fly).astype(int)"
      ],
      "metadata": {
        "id": "m5y50FoBpRBw"
      },
      "execution_count": 17,
      "outputs": []
    },
    {
      "cell_type": "markdown",
      "source": [
        "\n",
        "# Convert training labels to binary"
      ],
      "metadata": {
        "id": "Lbi-ogtypRvu"
      }
    },
    {
      "cell_type": "code",
      "source": [
        "y_train_bin = np.isin(y_train, can_fly).astype(int)"
      ],
      "metadata": {
        "id": "GM6abXKUpTK2"
      },
      "execution_count": 18,
      "outputs": []
    },
    {
      "cell_type": "markdown",
      "source": [
        "# Normalize the training data"
      ],
      "metadata": {
        "id": "-z2NMSFppUaF"
      }
    },
    {
      "cell_type": "code",
      "source": [
        "x_train = x_train.astype('float32') / 255.0"
      ],
      "metadata": {
        "id": "o6oN4e2kpVrl"
      },
      "execution_count": 19,
      "outputs": []
    },
    {
      "cell_type": "markdown",
      "source": [
        "# Define the CNN model"
      ],
      "metadata": {
        "id": "QJP3WV4ApXz-"
      }
    },
    {
      "cell_type": "code",
      "source": [
        "model = Sequential([\n",
        "    Conv2D(32, (3, 3), activation='relu', input_shape=(32, 32, 3)),\n",
        "    MaxPooling2D((2, 2)),\n",
        "    Conv2D(64, (3, 3), activation='relu'),\n",
        "    MaxPooling2D((2, 2)),\n",
        "    Conv2D(128, (3, 3), activation='relu'),\n",
        "    MaxPooling2D((2, 2)),\n",
        "    Flatten(),\n",
        "    Dense(128, activation='relu'),\n",
        "    Dropout(0.5),\n",
        "    Dense(1, activation='sigmoid')  # Binary classification\n",
        "])"
      ],
      "metadata": {
        "id": "Kd3eFgalpYhu"
      },
      "execution_count": 20,
      "outputs": []
    },
    {
      "cell_type": "markdown",
      "source": [
        "# Compile the model"
      ],
      "metadata": {
        "id": "AG4sBKp9pa41"
      }
    },
    {
      "cell_type": "code",
      "source": [
        "model.compile(optimizer='adam', loss='binary_crossentropy', metrics=['accuracy'])"
      ],
      "metadata": {
        "id": "lef9oobApb2O"
      },
      "execution_count": 21,
      "outputs": []
    },
    {
      "cell_type": "markdown",
      "source": [
        "# Train the model"
      ],
      "metadata": {
        "id": "fqCHp-DDpdr-"
      }
    },
    {
      "cell_type": "code",
      "source": [
        "history = model.fit(x_train, y_train_bin, epochs=10, batch_size=64, validation_split=0.2)"
      ],
      "metadata": {
        "colab": {
          "base_uri": "https://localhost:8080/"
        },
        "id": "RlNNMOF-peNO",
        "outputId": "fceaddea-a50e-4743-d6b3-b768b8ebbcd4"
      },
      "execution_count": 22,
      "outputs": [
        {
          "output_type": "stream",
          "name": "stdout",
          "text": [
            "Epoch 1/10\n",
            "625/625 [==============================] - 56s 87ms/step - loss: 0.4339 - accuracy: 0.8180 - val_loss: 0.3822 - val_accuracy: 0.8442\n",
            "Epoch 2/10\n",
            "625/625 [==============================] - 54s 87ms/step - loss: 0.3740 - accuracy: 0.8460 - val_loss: 0.3715 - val_accuracy: 0.8488\n",
            "Epoch 3/10\n",
            "625/625 [==============================] - 53s 85ms/step - loss: 0.3382 - accuracy: 0.8636 - val_loss: 0.3123 - val_accuracy: 0.8792\n",
            "Epoch 4/10\n",
            "625/625 [==============================] - 52s 83ms/step - loss: 0.3083 - accuracy: 0.8769 - val_loss: 0.2912 - val_accuracy: 0.8837\n",
            "Epoch 5/10\n",
            "625/625 [==============================] - 54s 87ms/step - loss: 0.2842 - accuracy: 0.8862 - val_loss: 0.2903 - val_accuracy: 0.8849\n",
            "Epoch 6/10\n",
            "625/625 [==============================] - 54s 86ms/step - loss: 0.2575 - accuracy: 0.8965 - val_loss: 0.2824 - val_accuracy: 0.8902\n",
            "Epoch 7/10\n",
            "625/625 [==============================] - 53s 85ms/step - loss: 0.2344 - accuracy: 0.9062 - val_loss: 0.2818 - val_accuracy: 0.8875\n",
            "Epoch 8/10\n",
            "625/625 [==============================] - 53s 85ms/step - loss: 0.2131 - accuracy: 0.9150 - val_loss: 0.2846 - val_accuracy: 0.8868\n",
            "Epoch 9/10\n",
            "625/625 [==============================] - 52s 83ms/step - loss: 0.1943 - accuracy: 0.9230 - val_loss: 0.3053 - val_accuracy: 0.8865\n",
            "Epoch 10/10\n",
            "625/625 [==============================] - 55s 88ms/step - loss: 0.1716 - accuracy: 0.9322 - val_loss: 0.3211 - val_accuracy: 0.8881\n"
          ]
        }
      ]
    },
    {
      "cell_type": "markdown",
      "source": [
        "# Make predictions on the test batch"
      ],
      "metadata": {
        "id": "oRfbgAafphWG"
      }
    },
    {
      "cell_type": "code",
      "source": [
        "y_pred_batch = (model.predict(x_test_batch) > 0.5).astype(\"int32\")"
      ],
      "metadata": {
        "colab": {
          "base_uri": "https://localhost:8080/"
        },
        "id": "AHWOLOtPpiI2",
        "outputId": "f6b69ece-6a33-488a-bd0b-e6540eaa517c"
      },
      "execution_count": 23,
      "outputs": [
        {
          "output_type": "stream",
          "name": "stdout",
          "text": [
            "313/313 [==============================] - 6s 18ms/step\n"
          ]
        }
      ]
    },
    {
      "cell_type": "markdown",
      "source": [
        "\n",
        "# Calculate evaluation metrics for the test batch"
      ],
      "metadata": {
        "id": "QrkwOloOpjwV"
      }
    },
    {
      "cell_type": "code",
      "source": [
        "accuracy_batch = accuracy_score(y_test_batch_bin, y_pred_batch)\n",
        "precision_batch = precision_score(y_test_batch_bin, y_pred_batch)\n",
        "recall_batch = recall_score(y_test_batch_bin, y_pred_batch)\n",
        "f1_batch = f1_score(y_test_batch_bin, y_pred_batch)\n",
        "cm_batch = confusion_matrix(y_test_batch_bin, y_pred_batch)\n",
        "\n",
        "print(f\"Test Batch Accuracy: {accuracy_batch}\")\n",
        "print(f\"Test Batch Precision: {precision_batch}\")\n",
        "print(f\"Test Batch Recall: {recall_batch}\")\n",
        "print(f\"Test Batch F1 Score: {f1_batch}\")"
      ],
      "metadata": {
        "colab": {
          "base_uri": "https://localhost:8080/"
        },
        "id": "c70sCRtHplOm",
        "outputId": "37102462-e475-4c46-b42a-e9ada513cfce"
      },
      "execution_count": 24,
      "outputs": [
        {
          "output_type": "stream",
          "name": "stdout",
          "text": [
            "Test Batch Accuracy: 0.884\n",
            "Test Batch Precision: 0.772020725388601\n",
            "Test Batch Recall: 0.596\n",
            "Test Batch F1 Score: 0.672686230248307\n"
          ]
        }
      ]
    },
    {
      "cell_type": "markdown",
      "source": [
        "\n",
        "# Display the confusion matrix for the test batch"
      ],
      "metadata": {
        "id": "CghYIj9fpmuG"
      }
    },
    {
      "cell_type": "code",
      "source": [
        "plt.figure(figsize=(8, 6))\n",
        "sns.heatmap(cm_batch, annot=True, fmt='d', cmap='Blues', xticklabels=['Cannot Fly', 'Can Fly'], yticklabels=['Cannot Fly', 'Can Fly'])\n",
        "plt.xlabel('Predicted')\n",
        "plt.ylabel('True')\n",
        "plt.title('Confusion Matrix - Test Batch')\n",
        "plt.show()\n"
      ],
      "metadata": {
        "colab": {
          "base_uri": "https://localhost:8080/",
          "height": 564
        },
        "id": "ULKHwHRvpn_V",
        "outputId": "f03b4760-4627-44ec-9e25-7793bdcb4907"
      },
      "execution_count": 25,
      "outputs": [
        {
          "output_type": "display_data",
          "data": {
            "text/plain": [
              "<Figure size 800x600 with 2 Axes>"
            ],
            "image/png": "[encoded data removed]"
          },
          "metadata": {}
        }
      ]
    }
  ]
}